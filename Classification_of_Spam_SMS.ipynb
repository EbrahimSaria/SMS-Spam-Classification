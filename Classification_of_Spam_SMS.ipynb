{
 "cells": [
  {
   "cell_type": "code",
   "execution_count": 1,
   "metadata": {
    "id": "o4mZtmIr88Mm"
   },
   "outputs": [],
   "source": [
    "import numpy as np\n",
    "import pandas as pd\n",
    "import matplotlib.pyplot as plt\n",
    "import seaborn as sns\n",
    "import scipy as sp\n",
    "from sklearn import feature_extraction, model_selection, naive_bayes, metrics, svm\n",
    "from sklearn.ensemble import RandomForestClassifier\n",
    "from sklearn.model_selection import train_test_split\n",
    "from sklearn.metrics import precision_recall_fscore_support as score\n",
    "%matplotlib inline"
   ]
  },
  {
   "cell_type": "code",
   "execution_count": 2,
   "metadata": {
    "id": "KwjX77yI9JGN"
   },
   "outputs": [],
   "source": [
    "df = pd.read_csv(\"sms_spam.csv\", encoding='latin-1')"
   ]
  },
  {
   "cell_type": "code",
   "execution_count": 3,
   "metadata": {
    "colab": {
     "base_uri": "https://localhost:8080/",
     "height": 202
    },
    "id": "xeROP7Wg9dRM",
    "outputId": "ab973981-12d2-4b0d-c8a1-279483e8ffaa"
   },
   "outputs": [
    {
     "data": {
      "text/html": [
       "<div>\n",
       "<style scoped>\n",
       "    .dataframe tbody tr th:only-of-type {\n",
       "        vertical-align: middle;\n",
       "    }\n",
       "\n",
       "    .dataframe tbody tr th {\n",
       "        vertical-align: top;\n",
       "    }\n",
       "\n",
       "    .dataframe thead th {\n",
       "        text-align: right;\n",
       "    }\n",
       "</style>\n",
       "<table border=\"1\" class=\"dataframe\">\n",
       "  <thead>\n",
       "    <tr style=\"text-align: right;\">\n",
       "      <th></th>\n",
       "      <th>v1</th>\n",
       "      <th>v2</th>\n",
       "      <th>Unnamed: 2</th>\n",
       "      <th>Unnamed: 3</th>\n",
       "      <th>Unnamed: 4</th>\n",
       "    </tr>\n",
       "  </thead>\n",
       "  <tbody>\n",
       "    <tr>\n",
       "      <th>0</th>\n",
       "      <td>ham</td>\n",
       "      <td>Go until jurong point, crazy.. Available only ...</td>\n",
       "      <td>NaN</td>\n",
       "      <td>NaN</td>\n",
       "      <td>NaN</td>\n",
       "    </tr>\n",
       "    <tr>\n",
       "      <th>1</th>\n",
       "      <td>ham</td>\n",
       "      <td>Ok lar... Joking wif u oni...</td>\n",
       "      <td>NaN</td>\n",
       "      <td>NaN</td>\n",
       "      <td>NaN</td>\n",
       "    </tr>\n",
       "    <tr>\n",
       "      <th>2</th>\n",
       "      <td>spam</td>\n",
       "      <td>Free entry in 2 a wkly comp to win FA Cup fina...</td>\n",
       "      <td>NaN</td>\n",
       "      <td>NaN</td>\n",
       "      <td>NaN</td>\n",
       "    </tr>\n",
       "    <tr>\n",
       "      <th>3</th>\n",
       "      <td>ham</td>\n",
       "      <td>U dun say so early hor... U c already then say...</td>\n",
       "      <td>NaN</td>\n",
       "      <td>NaN</td>\n",
       "      <td>NaN</td>\n",
       "    </tr>\n",
       "    <tr>\n",
       "      <th>4</th>\n",
       "      <td>ham</td>\n",
       "      <td>Nah I don't think he goes to usf, he lives aro...</td>\n",
       "      <td>NaN</td>\n",
       "      <td>NaN</td>\n",
       "      <td>NaN</td>\n",
       "    </tr>\n",
       "  </tbody>\n",
       "</table>\n",
       "</div>"
      ],
      "text/plain": [
       "     v1  ... Unnamed: 4\n",
       "0   ham  ...        NaN\n",
       "1   ham  ...        NaN\n",
       "2  spam  ...        NaN\n",
       "3   ham  ...        NaN\n",
       "4   ham  ...        NaN\n",
       "\n",
       "[5 rows x 5 columns]"
      ]
     },
     "execution_count": 3,
     "metadata": {},
     "output_type": "execute_result"
    }
   ],
   "source": [
    "df.head()"
   ]
  },
  {
   "cell_type": "code",
   "execution_count": 4,
   "metadata": {
    "id": "B0-O6lxH-vUd"
   },
   "outputs": [],
   "source": [
    "df = df.drop('Unnamed: 2', 1)\n",
    "df = df.drop('Unnamed: 3', 1)\n",
    "df = df.drop('Unnamed: 4', 1)"
   ]
  },
  {
   "cell_type": "code",
   "execution_count": 5,
   "metadata": {
    "colab": {
     "base_uri": "https://localhost:8080/",
     "height": 202
    },
    "id": "A1brZure-z3y",
    "outputId": "9e941c49-a3d0-4c35-eba9-633a23738fbe"
   },
   "outputs": [
    {
     "data": {
      "text/html": [
       "<div>\n",
       "<style scoped>\n",
       "    .dataframe tbody tr th:only-of-type {\n",
       "        vertical-align: middle;\n",
       "    }\n",
       "\n",
       "    .dataframe tbody tr th {\n",
       "        vertical-align: top;\n",
       "    }\n",
       "\n",
       "    .dataframe thead th {\n",
       "        text-align: right;\n",
       "    }\n",
       "</style>\n",
       "<table border=\"1\" class=\"dataframe\">\n",
       "  <thead>\n",
       "    <tr style=\"text-align: right;\">\n",
       "      <th></th>\n",
       "      <th>v1</th>\n",
       "      <th>v2</th>\n",
       "    </tr>\n",
       "  </thead>\n",
       "  <tbody>\n",
       "    <tr>\n",
       "      <th>0</th>\n",
       "      <td>ham</td>\n",
       "      <td>Go until jurong point, crazy.. Available only ...</td>\n",
       "    </tr>\n",
       "    <tr>\n",
       "      <th>1</th>\n",
       "      <td>ham</td>\n",
       "      <td>Ok lar... Joking wif u oni...</td>\n",
       "    </tr>\n",
       "    <tr>\n",
       "      <th>2</th>\n",
       "      <td>spam</td>\n",
       "      <td>Free entry in 2 a wkly comp to win FA Cup fina...</td>\n",
       "    </tr>\n",
       "    <tr>\n",
       "      <th>3</th>\n",
       "      <td>ham</td>\n",
       "      <td>U dun say so early hor... U c already then say...</td>\n",
       "    </tr>\n",
       "    <tr>\n",
       "      <th>4</th>\n",
       "      <td>ham</td>\n",
       "      <td>Nah I don't think he goes to usf, he lives aro...</td>\n",
       "    </tr>\n",
       "  </tbody>\n",
       "</table>\n",
       "</div>"
      ],
      "text/plain": [
       "     v1                                                 v2\n",
       "0   ham  Go until jurong point, crazy.. Available only ...\n",
       "1   ham                      Ok lar... Joking wif u oni...\n",
       "2  spam  Free entry in 2 a wkly comp to win FA Cup fina...\n",
       "3   ham  U dun say so early hor... U c already then say...\n",
       "4   ham  Nah I don't think he goes to usf, he lives aro..."
      ]
     },
     "execution_count": 5,
     "metadata": {},
     "output_type": "execute_result"
    }
   ],
   "source": [
    "df.head()"
   ]
  },
  {
   "cell_type": "code",
   "execution_count": 6,
   "metadata": {
    "id": "rndTDtNUFlDS"
   },
   "outputs": [],
   "source": [
    "df = df.rename(columns = {'v1':'label','v2':'message'})"
   ]
  },
  {
   "cell_type": "code",
   "execution_count": 7,
   "metadata": {
    "colab": {
     "base_uri": "https://localhost:8080/",
     "height": 172
    },
    "id": "2DtvXve5ygbp",
    "outputId": "a3d1f05b-1379-45c5-b5d6-c0ebc9b38919"
   },
   "outputs": [
    {
     "data": {
      "text/html": [
       "<div>\n",
       "<style scoped>\n",
       "    .dataframe tbody tr th:only-of-type {\n",
       "        vertical-align: middle;\n",
       "    }\n",
       "\n",
       "    .dataframe tbody tr th {\n",
       "        vertical-align: top;\n",
       "    }\n",
       "\n",
       "    .dataframe thead tr th {\n",
       "        text-align: left;\n",
       "    }\n",
       "\n",
       "    .dataframe thead tr:last-of-type th {\n",
       "        text-align: right;\n",
       "    }\n",
       "</style>\n",
       "<table border=\"1\" class=\"dataframe\">\n",
       "  <thead>\n",
       "    <tr>\n",
       "      <th></th>\n",
       "      <th colspan=\"4\" halign=\"left\">message</th>\n",
       "    </tr>\n",
       "    <tr>\n",
       "      <th></th>\n",
       "      <th>count</th>\n",
       "      <th>unique</th>\n",
       "      <th>top</th>\n",
       "      <th>freq</th>\n",
       "    </tr>\n",
       "    <tr>\n",
       "      <th>label</th>\n",
       "      <th></th>\n",
       "      <th></th>\n",
       "      <th></th>\n",
       "      <th></th>\n",
       "    </tr>\n",
       "  </thead>\n",
       "  <tbody>\n",
       "    <tr>\n",
       "      <th>ham</th>\n",
       "      <td>4825</td>\n",
       "      <td>4516</td>\n",
       "      <td>Sorry, I'll call later</td>\n",
       "      <td>30</td>\n",
       "    </tr>\n",
       "    <tr>\n",
       "      <th>spam</th>\n",
       "      <td>747</td>\n",
       "      <td>653</td>\n",
       "      <td>Please call our customer service representativ...</td>\n",
       "      <td>4</td>\n",
       "    </tr>\n",
       "  </tbody>\n",
       "</table>\n",
       "</div>"
      ],
      "text/plain": [
       "      message                                                               \n",
       "        count unique                                                top freq\n",
       "label                                                                       \n",
       "ham      4825   4516                             Sorry, I'll call later   30\n",
       "spam      747    653  Please call our customer service representativ...    4"
      ]
     },
     "execution_count": 7,
     "metadata": {},
     "output_type": "execute_result"
    }
   ],
   "source": [
    "df.groupby('label').describe()"
   ]
  },
  {
   "cell_type": "code",
   "execution_count": 8,
   "metadata": {
    "colab": {
     "base_uri": "https://localhost:8080/",
     "height": 202
    },
    "id": "f6TyUk6aFnaI",
    "outputId": "260e8a43-b7a3-46f6-e0f4-adb02074260a"
   },
   "outputs": [
    {
     "data": {
      "text/html": [
       "<div>\n",
       "<style scoped>\n",
       "    .dataframe tbody tr th:only-of-type {\n",
       "        vertical-align: middle;\n",
       "    }\n",
       "\n",
       "    .dataframe tbody tr th {\n",
       "        vertical-align: top;\n",
       "    }\n",
       "\n",
       "    .dataframe thead th {\n",
       "        text-align: right;\n",
       "    }\n",
       "</style>\n",
       "<table border=\"1\" class=\"dataframe\">\n",
       "  <thead>\n",
       "    <tr style=\"text-align: right;\">\n",
       "      <th></th>\n",
       "      <th>label</th>\n",
       "      <th>message</th>\n",
       "    </tr>\n",
       "  </thead>\n",
       "  <tbody>\n",
       "    <tr>\n",
       "      <th>0</th>\n",
       "      <td>ham</td>\n",
       "      <td>Go until jurong point, crazy.. Available only ...</td>\n",
       "    </tr>\n",
       "    <tr>\n",
       "      <th>1</th>\n",
       "      <td>ham</td>\n",
       "      <td>Ok lar... Joking wif u oni...</td>\n",
       "    </tr>\n",
       "    <tr>\n",
       "      <th>2</th>\n",
       "      <td>spam</td>\n",
       "      <td>Free entry in 2 a wkly comp to win FA Cup fina...</td>\n",
       "    </tr>\n",
       "    <tr>\n",
       "      <th>3</th>\n",
       "      <td>ham</td>\n",
       "      <td>U dun say so early hor... U c already then say...</td>\n",
       "    </tr>\n",
       "    <tr>\n",
       "      <th>4</th>\n",
       "      <td>ham</td>\n",
       "      <td>Nah I don't think he goes to usf, he lives aro...</td>\n",
       "    </tr>\n",
       "  </tbody>\n",
       "</table>\n",
       "</div>"
      ],
      "text/plain": [
       "  label                                            message\n",
       "0   ham  Go until jurong point, crazy.. Available only ...\n",
       "1   ham                      Ok lar... Joking wif u oni...\n",
       "2  spam  Free entry in 2 a wkly comp to win FA Cup fina...\n",
       "3   ham  U dun say so early hor... U c already then say...\n",
       "4   ham  Nah I don't think he goes to usf, he lives aro..."
      ]
     },
     "execution_count": 8,
     "metadata": {},
     "output_type": "execute_result"
    }
   ],
   "source": [
    "df.head()"
   ]
  },
  {
   "cell_type": "code",
   "execution_count": 9,
   "metadata": {
    "colab": {
     "base_uri": "https://localhost:8080/",
     "height": 284
    },
    "id": "uD5MljD31w4Q",
    "outputId": "71a6eff6-72ce-4bc0-cf29-d8d498717f5d"
   },
   "outputs": [
    {
     "data": {
      "image/png": "[encoded data removed]",
      "text/plain": [
       "<Figure size 432x288 with 1 Axes>"
      ]
     },
     "metadata": {
      "needs_background": "light"
     },
     "output_type": "display_data"
    }
   ],
   "source": [
    "no_Class=pd.value_counts(df[\"label\"], sort= True)\n",
    "no_Class.plot(kind = 'bar')\n",
    "plt.show();"
   ]
  },
  {
   "cell_type": "code",
   "execution_count": 10,
   "metadata": {
    "colab": {
     "base_uri": "https://localhost:8080/"
    },
    "id": "RGhCRxTeF5WN",
    "outputId": "02eece17-c1a4-4d63-b451-ddd5363fd7ba"
   },
   "outputs": [
    {
     "data": {
      "text/plain": [
       "(5572, 8404)"
      ]
     },
     "execution_count": 10,
     "metadata": {},
     "output_type": "execute_result"
    }
   ],
   "source": [
    "ft = feature_extraction.text.CountVectorizer(stop_words = 'english')\n",
    "X = ft.fit_transform(df[\"message\"])\n",
    "np.shape(X)"
   ]
  },
  {
   "cell_type": "markdown",
   "metadata": {
    "id": "YB_wSIqeIEfv"
   },
   "source": [
    "## Naive Bayes"
   ]
  },
  {
   "cell_type": "code",
   "execution_count": 11,
   "metadata": {
    "id": "2d-TvYtgH8XA"
   },
   "outputs": [],
   "source": [
    "# spam= 1 || not spam= 0\n",
    "\n",
    "df[\"label\"]=df[\"label\"].map({'spam':1,'ham':0})\n",
    "X_train, X_test, y_train, y_test = model_selection.train_test_split(X, df['label'], test_size=0.70, random_state=42)"
   ]
  },
  {
   "cell_type": "code",
   "execution_count": 12,
   "metadata": {
    "id": "vIQD09AZIid8"
   },
   "outputs": [],
   "source": [
    "l_alpha = np.arange(1/100000, 20, 0.11)\n",
    "score_train = np.zeros(len(l_alpha))\n",
    "score_test = np.zeros(len(l_alpha))\n",
    "recall_test = np.zeros(len(l_alpha))\n",
    "precision_test= np.zeros(len(l_alpha))\n",
    "count = 0\n",
    "for alpha in l_alpha:\n",
    "    bayes = naive_bayes.MultinomialNB(alpha=alpha)\n",
    "    bayes.fit(X_train, y_train)\n",
    "    score_train[count] = bayes.score(X_train, y_train)\n",
    "    score_test[count]= bayes.score(X_test, y_test)\n",
    "    recall_test[count] = metrics.recall_score(y_test, bayes.predict(X_test))\n",
    "    precision_test[count] = metrics.precision_score(y_test, bayes.predict(X_test))\n",
    "    count = count + 1 "
   ]
  },
  {
   "cell_type": "code",
   "execution_count": 13,
   "metadata": {
    "colab": {
     "base_uri": "https://localhost:8080/",
     "height": 356
    },
    "id": "s9BMRkPlI9zb",
    "outputId": "13bad555-0981-4e47-bd10-1a586cfd818f"
   },
   "outputs": [
    {
     "data": {
      "text/html": [
       "<div>\n",
       "<style scoped>\n",
       "    .dataframe tbody tr th:only-of-type {\n",
       "        vertical-align: middle;\n",
       "    }\n",
       "\n",
       "    .dataframe tbody tr th {\n",
       "        vertical-align: top;\n",
       "    }\n",
       "\n",
       "    .dataframe thead th {\n",
       "        text-align: right;\n",
       "    }\n",
       "</style>\n",
       "<table border=\"1\" class=\"dataframe\">\n",
       "  <thead>\n",
       "    <tr style=\"text-align: right;\">\n",
       "      <th></th>\n",
       "      <th>alpha</th>\n",
       "      <th>Train Accuracy</th>\n",
       "      <th>Test Accuracy</th>\n",
       "      <th>Test Recall</th>\n",
       "      <th>Test Precision</th>\n",
       "    </tr>\n",
       "  </thead>\n",
       "  <tbody>\n",
       "    <tr>\n",
       "      <th>0</th>\n",
       "      <td>0.00001</td>\n",
       "      <td>0.998803</td>\n",
       "      <td>0.961805</td>\n",
       "      <td>0.913793</td>\n",
       "      <td>0.820998</td>\n",
       "    </tr>\n",
       "    <tr>\n",
       "      <th>1</th>\n",
       "      <td>0.11001</td>\n",
       "      <td>0.998803</td>\n",
       "      <td>0.966163</td>\n",
       "      <td>0.946360</td>\n",
       "      <td>0.826087</td>\n",
       "    </tr>\n",
       "    <tr>\n",
       "      <th>2</th>\n",
       "      <td>0.22001</td>\n",
       "      <td>0.999402</td>\n",
       "      <td>0.967444</td>\n",
       "      <td>0.938697</td>\n",
       "      <td>0.837607</td>\n",
       "    </tr>\n",
       "    <tr>\n",
       "      <th>3</th>\n",
       "      <td>0.33001</td>\n",
       "      <td>0.999402</td>\n",
       "      <td>0.968726</td>\n",
       "      <td>0.938697</td>\n",
       "      <td>0.844828</td>\n",
       "    </tr>\n",
       "    <tr>\n",
       "      <th>4</th>\n",
       "      <td>0.44001</td>\n",
       "      <td>0.999402</td>\n",
       "      <td>0.971546</td>\n",
       "      <td>0.929119</td>\n",
       "      <td>0.867621</td>\n",
       "    </tr>\n",
       "    <tr>\n",
       "      <th>5</th>\n",
       "      <td>0.55001</td>\n",
       "      <td>0.998803</td>\n",
       "      <td>0.976160</td>\n",
       "      <td>0.925287</td>\n",
       "      <td>0.899441</td>\n",
       "    </tr>\n",
       "    <tr>\n",
       "      <th>6</th>\n",
       "      <td>0.66001</td>\n",
       "      <td>0.998803</td>\n",
       "      <td>0.976160</td>\n",
       "      <td>0.919540</td>\n",
       "      <td>0.903955</td>\n",
       "    </tr>\n",
       "    <tr>\n",
       "      <th>7</th>\n",
       "      <td>0.77001</td>\n",
       "      <td>0.997606</td>\n",
       "      <td>0.977698</td>\n",
       "      <td>0.917625</td>\n",
       "      <td>0.915870</td>\n",
       "    </tr>\n",
       "    <tr>\n",
       "      <th>8</th>\n",
       "      <td>0.88001</td>\n",
       "      <td>0.997606</td>\n",
       "      <td>0.977954</td>\n",
       "      <td>0.909962</td>\n",
       "      <td>0.924125</td>\n",
       "    </tr>\n",
       "    <tr>\n",
       "      <th>9</th>\n",
       "      <td>0.99001</td>\n",
       "      <td>0.997606</td>\n",
       "      <td>0.978980</td>\n",
       "      <td>0.902299</td>\n",
       "      <td>0.938247</td>\n",
       "    </tr>\n",
       "  </tbody>\n",
       "</table>\n",
       "</div>"
      ],
      "text/plain": [
       "     alpha  Train Accuracy  Test Accuracy  Test Recall  Test Precision\n",
       "0  0.00001        0.998803       0.961805     0.913793        0.820998\n",
       "1  0.11001        0.998803       0.966163     0.946360        0.826087\n",
       "2  0.22001        0.999402       0.967444     0.938697        0.837607\n",
       "3  0.33001        0.999402       0.968726     0.938697        0.844828\n",
       "4  0.44001        0.999402       0.971546     0.929119        0.867621\n",
       "5  0.55001        0.998803       0.976160     0.925287        0.899441\n",
       "6  0.66001        0.998803       0.976160     0.919540        0.903955\n",
       "7  0.77001        0.997606       0.977698     0.917625        0.915870\n",
       "8  0.88001        0.997606       0.977954     0.909962        0.924125\n",
       "9  0.99001        0.997606       0.978980     0.902299        0.938247"
      ]
     },
     "execution_count": 13,
     "metadata": {},
     "output_type": "execute_result"
    }
   ],
   "source": [
    "mat = np.matrix(np.c_[l_alpha, score_train, score_test, recall_test, precision_test])\n",
    "model = pd.DataFrame(data = mat, columns = \n",
    "             ['alpha', 'Train Accuracy', 'Test Accuracy', 'Test Recall', 'Test Precision'])\n",
    "model.head(n=10)\n"
   ]
  },
  {
   "cell_type": "code",
   "execution_count": 14,
   "metadata": {
    "colab": {
     "base_uri": "https://localhost:8080/"
    },
    "id": "XEmJr7bJJBQL",
    "outputId": "713b5e18-4dd9-4e69-bb72-3304e461cc91"
   },
   "outputs": [
    {
     "data": {
      "text/plain": [
       "alpha             10.670010\n",
       "Train Accuracy     0.977259\n",
       "Test Accuracy      0.962574\n",
       "Test Recall        0.720307\n",
       "Test Precision     1.000000\n",
       "Name: 97, dtype: float64"
      ]
     },
     "execution_count": 14,
     "metadata": {},
     "output_type": "execute_result"
    }
   ],
   "source": [
    "index = model['Test Precision'].idxmax()\n",
    "model.iloc[index, :]"
   ]
  },
  {
   "cell_type": "markdown",
   "metadata": {
    "id": "_xu4BP5EJtN5"
   },
   "source": [
    "## Random Forest Method"
   ]
  },
  {
   "cell_type": "code",
   "execution_count": 15,
   "metadata": {
    "id": "no3hqQoCJvyn"
   },
   "outputs": [],
   "source": [
    "rf = RandomForestClassifier(n_estimators=100,max_depth=None,n_jobs=-1)\n",
    "rf_model = rf.fit(X_train,y_train)"
   ]
  },
  {
   "cell_type": "code",
   "execution_count": 16,
   "metadata": {
    "id": "2JrMpC5CJxtK"
   },
   "outputs": [],
   "source": [
    "prediction = rf_model.predict(X_test)\n",
    "precision,recall,fscore,support =score(y_test,prediction,pos_label=1, average ='binary')"
   ]
  },
  {
   "cell_type": "code",
   "execution_count": 17,
   "metadata": {
    "colab": {
     "base_uri": "https://localhost:8080/"
    },
    "id": "ynW1aYNlS4FS",
    "outputId": "49c89924-fc6c-497b-deda-fc4fccf9566e"
   },
   "outputs": [
    {
     "name": "stdout",
     "output_type": "stream",
     "text": [
      "Precision: 0.995 | Recall: 0.734 | Fscore: 0.845 | Accuracy: 0.964\n"
     ]
    }
   ],
   "source": [
    "print('Precision: {} | Recall: {} | Fscore: {} | Accuracy: {}'.format(round(precision,3),round(recall,3),round(fscore,3),round((prediction==y_test).sum()/len(y_test),3)))"
   ]
  },
  {
   "cell_type": "markdown",
   "metadata": {
    "id": "47T_IDTWy8h0"
   },
   "source": [
    "## NLP using Tensorflow"
   ]
  },
  {
   "cell_type": "code",
   "execution_count": 18,
   "metadata": {
    "id": "T9PVGkzXy-ZG"
   },
   "outputs": [],
   "source": [
    "import tensorflow as tf\n",
    "from keras.preprocessing.text import Tokenizer\n",
    "from keras.layers import Embedding, LSTM, Dropout, Dense\n",
    "from keras.models import Sequential\n",
    "from keras.preprocessing.sequence import pad_sequences"
   ]
  },
  {
   "cell_type": "code",
   "execution_count": 19,
   "metadata": {
    "id": "oBWeH7Y-zHbn"
   },
   "outputs": [],
   "source": [
    "vocab_size = 400\n",
    "oov_tok = \"<OOV>\"\n",
    "max_length = 300\n",
    "embedding_dim = 16\n",
    "encode = ({'ham': 0, 'spam': 1} )\n",
    "\n",
    "df = df.replace(encode)"
   ]
  },
  {
   "cell_type": "code",
   "execution_count": 20,
   "metadata": {
    "id": "VDV4kEu0zIlg"
   },
   "outputs": [],
   "source": [
    "X = df['message']\n",
    "Y = df['label']\n",
    "tokenizer = Tokenizer(num_words=vocab_size, oov_token=oov_tok)\n",
    "tokenizer.fit_on_texts(X)\n",
    "\n",
    "X = tokenizer.texts_to_sequences(X)"
   ]
  },
  {
   "cell_type": "code",
   "execution_count": 21,
   "metadata": {
    "colab": {
     "base_uri": "https://localhost:8080/"
    },
    "id": "GOI7t-VWzNI6",
    "outputId": "56e43a7a-8f34-4b2b-94c7-e523b67a5ecb"
   },
   "outputs": [
    {
     "name": "stderr",
     "output_type": "stream",
     "text": [
      "/usr/local/lib/python3.7/dist-packages/ipykernel_launcher.py:1: VisibleDeprecationWarning: Creating an ndarray from ragged nested sequences (which is a list-or-tuple of lists-or-tuples-or ndarrays with different lengths or shapes) is deprecated. If you meant to do this, you must specify 'dtype=object' when creating the ndarray\n",
      "  \"\"\"Entry point for launching an IPython kernel.\n"
     ]
    }
   ],
   "source": [
    "X = np.array(X)\n",
    "y = np.array(Y)"
   ]
  },
  {
   "cell_type": "code",
   "execution_count": 22,
   "metadata": {
    "id": "KjewpYFdzRkc"
   },
   "outputs": [],
   "source": [
    "X = pad_sequences(X, maxlen=max_length)"
   ]
  },
  {
   "cell_type": "code",
   "execution_count": 23,
   "metadata": {
    "colab": {
     "base_uri": "https://localhost:8080/"
    },
    "id": "Se11So0dzVOQ",
    "outputId": "5474615e-abe6-42ab-c4dc-7f587b5eb6ab"
   },
   "outputs": [
    {
     "name": "stdout",
     "output_type": "stream",
     "text": [
      "Model: \"sequential\"\n",
      "_________________________________________________________________\n",
      "Layer (type)                 Output Shape              Param #   \n",
      "=================================================================\n",
      "embedding (Embedding)        (None, 300, 16)           6400      \n",
      "_________________________________________________________________\n",
      "global_average_pooling1d (Gl (None, 16)                0         \n",
      "_________________________________________________________________\n",
      "dense (Dense)                (None, 25)                425       \n",
      "_________________________________________________________________\n",
      "dense_1 (Dense)              (None, 1)                 26        \n",
      "=================================================================\n",
      "Total params: 6,851\n",
      "Trainable params: 6,851\n",
      "Non-trainable params: 0\n",
      "_________________________________________________________________\n"
     ]
    }
   ],
   "source": [
    "model = tf.keras.Sequential([\n",
    "    tf.keras.layers.Embedding(vocab_size, embedding_dim, input_length=max_length),\n",
    "    tf.keras.layers.GlobalAveragePooling1D(),\n",
    "    tf.keras.layers.Dense(25, activation='relu'),\n",
    "    tf.keras.layers.Dense(1, activation='sigmoid')\n",
    "])\n",
    "model.compile(loss='binary_crossentropy',optimizer='adam',metrics=['accuracy'])\n",
    "model.summary()"
   ]
  },
  {
   "cell_type": "code",
   "execution_count": 24,
   "metadata": {
    "colab": {
     "base_uri": "https://localhost:8080/"
    },
    "id": "fLPzLmwWzdqc",
    "outputId": "39c93942-2256-4dfe-c727-522468267554"
   },
   "outputs": [
    {
     "name": "stdout",
     "output_type": "stream",
     "text": [
      "Epoch 1/40\n",
      "140/140 - 2s - loss: 0.5333 - accuracy: 0.8582 - val_loss: 0.3803 - val_accuracy: 0.8735\n",
      "Epoch 2/40\n",
      "140/140 - 0s - loss: 0.3860 - accuracy: 0.8640 - val_loss: 0.3638 - val_accuracy: 0.8735\n",
      "Epoch 3/40\n",
      "140/140 - 0s - loss: 0.3777 - accuracy: 0.8640 - val_loss: 0.3551 - val_accuracy: 0.8735\n",
      "Epoch 4/40\n",
      "140/140 - 0s - loss: 0.3669 - accuracy: 0.8640 - val_loss: 0.3422 - val_accuracy: 0.8735\n",
      "Epoch 5/40\n",
      "140/140 - 0s - loss: 0.3496 - accuracy: 0.8640 - val_loss: 0.3208 - val_accuracy: 0.8735\n",
      "Epoch 6/40\n",
      "140/140 - 0s - loss: 0.3197 - accuracy: 0.8640 - val_loss: 0.2843 - val_accuracy: 0.8735\n",
      "Epoch 7/40\n",
      "140/140 - 0s - loss: 0.2696 - accuracy: 0.8640 - val_loss: 0.2291 - val_accuracy: 0.8735\n",
      "Epoch 8/40\n",
      "140/140 - 0s - loss: 0.2195 - accuracy: 0.8640 - val_loss: 0.1897 - val_accuracy: 0.8735\n",
      "Epoch 9/40\n",
      "140/140 - 0s - loss: 0.1917 - accuracy: 0.8934 - val_loss: 0.1706 - val_accuracy: 0.9435\n",
      "Epoch 10/40\n",
      "140/140 - 0s - loss: 0.1764 - accuracy: 0.9414 - val_loss: 0.1596 - val_accuracy: 0.9543\n",
      "Epoch 11/40\n",
      "140/140 - 0s - loss: 0.1660 - accuracy: 0.9486 - val_loss: 0.1508 - val_accuracy: 0.9578\n",
      "Epoch 12/40\n",
      "140/140 - 0s - loss: 0.1567 - accuracy: 0.9551 - val_loss: 0.1440 - val_accuracy: 0.9623\n",
      "Epoch 13/40\n",
      "140/140 - 0s - loss: 0.1486 - accuracy: 0.9605 - val_loss: 0.1352 - val_accuracy: 0.9605\n",
      "Epoch 14/40\n",
      "140/140 - 0s - loss: 0.1417 - accuracy: 0.9625 - val_loss: 0.1302 - val_accuracy: 0.9650\n",
      "Epoch 15/40\n",
      "140/140 - 0s - loss: 0.1341 - accuracy: 0.9657 - val_loss: 0.1234 - val_accuracy: 0.9659\n",
      "Epoch 16/40\n",
      "140/140 - 0s - loss: 0.1274 - accuracy: 0.9672 - val_loss: 0.1296 - val_accuracy: 0.9695\n",
      "Epoch 17/40\n",
      "140/140 - 0s - loss: 0.1219 - accuracy: 0.9679 - val_loss: 0.1131 - val_accuracy: 0.9713\n",
      "Epoch 18/40\n",
      "140/140 - 0s - loss: 0.1159 - accuracy: 0.9699 - val_loss: 0.1084 - val_accuracy: 0.9731\n",
      "Epoch 19/40\n",
      "140/140 - 0s - loss: 0.1104 - accuracy: 0.9731 - val_loss: 0.1048 - val_accuracy: 0.9740\n",
      "Epoch 20/40\n",
      "140/140 - 0s - loss: 0.1047 - accuracy: 0.9749 - val_loss: 0.1008 - val_accuracy: 0.9749\n",
      "Epoch 21/40\n",
      "140/140 - 0s - loss: 0.1002 - accuracy: 0.9762 - val_loss: 0.0995 - val_accuracy: 0.9758\n",
      "Epoch 22/40\n",
      "140/140 - 0s - loss: 0.0954 - accuracy: 0.9778 - val_loss: 0.0957 - val_accuracy: 0.9776\n",
      "Epoch 23/40\n",
      "140/140 - 0s - loss: 0.0909 - accuracy: 0.9780 - val_loss: 0.0958 - val_accuracy: 0.9758\n",
      "Epoch 24/40\n",
      "140/140 - 0s - loss: 0.0869 - accuracy: 0.9800 - val_loss: 0.0864 - val_accuracy: 0.9794\n",
      "Epoch 25/40\n",
      "140/140 - 0s - loss: 0.0838 - accuracy: 0.9787 - val_loss: 0.0840 - val_accuracy: 0.9803\n",
      "Epoch 26/40\n",
      "140/140 - 0s - loss: 0.0801 - accuracy: 0.9825 - val_loss: 0.0823 - val_accuracy: 0.9821\n",
      "Epoch 27/40\n",
      "140/140 - 0s - loss: 0.0765 - accuracy: 0.9829 - val_loss: 0.0801 - val_accuracy: 0.9821\n",
      "Epoch 28/40\n",
      "140/140 - 0s - loss: 0.0733 - accuracy: 0.9825 - val_loss: 0.0782 - val_accuracy: 0.9821\n",
      "Epoch 29/40\n",
      "140/140 - 0s - loss: 0.0707 - accuracy: 0.9834 - val_loss: 0.0784 - val_accuracy: 0.9830\n",
      "Epoch 30/40\n",
      "140/140 - 0s - loss: 0.0684 - accuracy: 0.9838 - val_loss: 0.0804 - val_accuracy: 0.9830\n",
      "Epoch 31/40\n",
      "140/140 - 0s - loss: 0.0661 - accuracy: 0.9854 - val_loss: 0.0760 - val_accuracy: 0.9839\n",
      "Epoch 32/40\n",
      "140/140 - 0s - loss: 0.0646 - accuracy: 0.9847 - val_loss: 0.0736 - val_accuracy: 0.9839\n",
      "Epoch 33/40\n",
      "140/140 - 0s - loss: 0.0628 - accuracy: 0.9856 - val_loss: 0.0720 - val_accuracy: 0.9848\n",
      "Epoch 34/40\n",
      "140/140 - 0s - loss: 0.0599 - accuracy: 0.9859 - val_loss: 0.0715 - val_accuracy: 0.9857\n",
      "Epoch 35/40\n",
      "140/140 - 0s - loss: 0.0587 - accuracy: 0.9852 - val_loss: 0.0722 - val_accuracy: 0.9830\n",
      "Epoch 36/40\n",
      "140/140 - 0s - loss: 0.0564 - accuracy: 0.9868 - val_loss: 0.0733 - val_accuracy: 0.9839\n",
      "Epoch 37/40\n",
      "140/140 - 0s - loss: 0.0553 - accuracy: 0.9870 - val_loss: 0.0751 - val_accuracy: 0.9830\n",
      "Epoch 38/40\n",
      "140/140 - 0s - loss: 0.0539 - accuracy: 0.9865 - val_loss: 0.0704 - val_accuracy: 0.9857\n",
      "Epoch 39/40\n",
      "140/140 - 0s - loss: 0.0525 - accuracy: 0.9872 - val_loss: 0.0727 - val_accuracy: 0.9848\n",
      "Epoch 40/40\n",
      "140/140 - 0s - loss: 0.0509 - accuracy: 0.9868 - val_loss: 0.0680 - val_accuracy: 0.9857\n"
     ]
    }
   ],
   "source": [
    "epochs = 40\n",
    "X_train, X_test, y_train, y_test = train_test_split(X, Y, test_size=.20, random_state=128)\n",
    "history = model.fit(X_train, y_train, epochs=epochs, validation_data=(X_test,y_test), verbose=2)"
   ]
  },
  {
   "cell_type": "code",
   "execution_count": 25,
   "metadata": {
    "colab": {
     "base_uri": "https://localhost:8080/"
    },
    "id": "f2W932zozgjY",
    "outputId": "4a51792e-0896-4ad1-e454-1551a21203a5"
   },
   "outputs": [
    {
     "name": "stdout",
     "output_type": "stream",
     "text": [
      "35/35 [==============================] - 0s 2ms/step - loss: 0.0680 - accuracy: 0.9857\n",
      "The Accuracy of the NLP Model is : 98.57%\n"
     ]
    }
   ],
   "source": [
    "result = model.evaluate(X_test, y_test)\n",
    "loss = result[0]\n",
    "accuracy = result[1]\n",
    "\n",
    "\n",
    "print(f\"The Accuracy of the NLP Model is : {accuracy*100:.2f}%\")"
   ]
  },
  {
   "cell_type": "code",
   "execution_count": 26,
   "metadata": {
    "id": "E3YyH_d91ZHD"
   },
   "outputs": [],
   "source": [
    "from keras.preprocessing import sequence\n",
    "def get_prediction(sms):\n",
    "    sms = tokenizer.texts_to_sequences(sms)\n",
    "    sms = sequence.pad_sequences(sms, maxlen=max_length)\n",
    "    pred = model.predict(sms)\n",
    "    if(pred[0] > 0.5):\n",
    "        print(\"SPAM\")\n",
    "    else:\n",
    "        print('NOT SPAM')"
   ]
  },
  {
   "cell_type": "code",
   "execution_count": 27,
   "metadata": {
    "colab": {
     "base_uri": "https://localhost:8080/"
    },
    "id": "tsc76wCx1cT9",
    "outputId": "3a61bd63-43b0-4955-a3cd-ebab0cb3bc0d"
   },
   "outputs": [
    {
     "name": "stdout",
     "output_type": "stream",
     "text": [
      "SPAM\n"
     ]
    }
   ],
   "source": [
    "text=[\"Call customer care you have won a cash prize!\"]\n",
    "\n",
    "get_prediction(text)"
   ]
  },
  {
   "cell_type": "code",
   "execution_count": 28,
   "metadata": {
    "colab": {
     "base_uri": "https://localhost:8080/"
    },
    "id": "-6uQC6-K1jc2",
    "outputId": "5fc6ee1c-078b-4448-969d-70d31136410b"
   },
   "outputs": [
    {
     "name": "stdout",
     "output_type": "stream",
     "text": [
      "NOT SPAM\n"
     ]
    }
   ],
   "source": [
    "text=[\"Please meet me tomorrow at 8\"]\n",
    "\n",
    "get_prediction(text)"
   ]
  },
  {
   "cell_type": "code",
   "execution_count": 28,
   "metadata": {
    "id": "eJuZctVd1lxb"
   },
   "outputs": [],
   "source": []
  }
 ],
 "metadata": {
  "accelerator": "GPU",
  "colab": {
   "name": "Classification of Spam SMS.ipynb",
   "provenance": []
  },
  "kernelspec": {
   "display_name": "Python 3",
   "language": "python",
   "name": "python3"
  },
  "language_info": {
   "codemirror_mode": {
    "name": "ipython",
    "version": 3
   },
   "file_extension": ".py",
   "mimetype": "text/x-python",
   "name": "python",
   "nbconvert_exporter": "python",
   "pygments_lexer": "ipython3",
   "version": "3.7.6"
  }
 },
 "nbformat": 4,
 "nbformat_minor": 1
}
